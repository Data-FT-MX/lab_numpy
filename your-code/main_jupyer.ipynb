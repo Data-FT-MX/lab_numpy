{
 "cells": [
  {
   "cell_type": "markdown",
   "id": "112dabef",
   "metadata": {},
   "source": [
    "### 1. Import the NUMPY package under the name np."
   ]
  },
  {
   "cell_type": "code",
   "execution_count": 1,
   "id": "24da6322",
   "metadata": {},
   "outputs": [],
   "source": [
    "import numpy as np"
   ]
  },
  {
   "cell_type": "markdown",
   "id": "d313dbe5",
   "metadata": {},
   "source": [
    "### 2. Print the NUMPY version and the configuration."
   ]
  },
  {
   "cell_type": "code",
   "execution_count": 2,
   "id": "f4db4fb3",
   "metadata": {},
   "outputs": [
    {
     "name": "stdout",
     "output_type": "stream",
     "text": [
      "1.20.1\n"
     ]
    }
   ],
   "source": [
    "print(np.__version__)"
   ]
  },
  {
   "cell_type": "markdown",
   "id": "d961db0e",
   "metadata": {},
   "source": [
    "### 3. Generate a 2x3x5 3-dimensional array with random values. Assign the array to variable \"a\"\n",
    "Challenge: there are at least three easy ways that use numpy to generate random arrays. How many ways can you find?"
   ]
  },
  {
   "cell_type": "code",
   "execution_count": 8,
   "id": "b07ebce3",
   "metadata": {},
   "outputs": [],
   "source": [
    "a = np.random.random((2,3,5))"
   ]
  },
  {
   "cell_type": "markdown",
   "id": "8cda613b",
   "metadata": {},
   "source": [
    "### 4. Print a."
   ]
  },
  {
   "cell_type": "code",
   "execution_count": 9,
   "id": "04c7c1d8",
   "metadata": {},
   "outputs": [
    {
     "name": "stdout",
     "output_type": "stream",
     "text": [
      "[[[0.20846776 0.14930147 0.89914631 0.84718873 0.47057225]\n",
      "  [0.61114524 0.19331002 0.50457802 0.7712307  0.16101292]\n",
      "  [0.22864355 0.42499123 0.10476497 0.27649317 0.82033417]]\n",
      "\n",
      " [[0.06279012 0.93078133 0.80166884 0.72231455 0.09132007]\n",
      "  [0.49171731 0.10859506 0.05961885 0.79581947 0.93042786]\n",
      "  [0.19412918 0.96664288 0.55274558 0.37039637 0.69851704]]]\n"
     ]
    }
   ],
   "source": [
    "print(a)"
   ]
  },
  {
   "cell_type": "markdown",
   "id": "9b627bd7",
   "metadata": {},
   "source": [
    "### 5. Create a 5x2x3 3-dimensional array with all values equaling 1.\n",
    "Assign the array to variable \"b\""
   ]
  },
  {
   "cell_type": "code",
   "execution_count": 10,
   "id": "ff00b89d",
   "metadata": {},
   "outputs": [],
   "source": [
    "b = np.ones((5,2,3))"
   ]
  },
  {
   "cell_type": "markdown",
   "id": "2861375f",
   "metadata": {},
   "source": [
    "### 6. Print b."
   ]
  },
  {
   "cell_type": "code",
   "execution_count": 11,
   "id": "1627db26",
   "metadata": {},
   "outputs": [
    {
     "name": "stdout",
     "output_type": "stream",
     "text": [
      "[[[1. 1. 1.]\n",
      "  [1. 1. 1.]]\n",
      "\n",
      " [[1. 1. 1.]\n",
      "  [1. 1. 1.]]\n",
      "\n",
      " [[1. 1. 1.]\n",
      "  [1. 1. 1.]]\n",
      "\n",
      " [[1. 1. 1.]\n",
      "  [1. 1. 1.]]\n",
      "\n",
      " [[1. 1. 1.]\n",
      "  [1. 1. 1.]]]\n"
     ]
    }
   ],
   "source": [
    "print(b)"
   ]
  },
  {
   "cell_type": "markdown",
   "id": "e84a8977",
   "metadata": {},
   "source": [
    "### 7. Do a and b have the same size? How do you prove that in Python code?"
   ]
  },
  {
   "cell_type": "code",
   "execution_count": 14,
   "id": "86bcc9da",
   "metadata": {},
   "outputs": [
    {
     "data": {
      "text/plain": [
       "True"
      ]
     },
     "execution_count": 14,
     "metadata": {},
     "output_type": "execute_result"
    }
   ],
   "source": [
    "a.size == b.size"
   ]
  },
  {
   "cell_type": "markdown",
   "id": "ff23783b",
   "metadata": {},
   "source": [
    "### 8. Are you able to add a and b? Why or why not?"
   ]
  },
  {
   "cell_type": "code",
   "execution_count": 16,
   "id": "bb50a6d4",
   "metadata": {},
   "outputs": [
    {
     "ename": "ValueError",
     "evalue": "operands could not be broadcast together with shapes (2,3,5) (5,2,3) ",
     "output_type": "error",
     "traceback": [
      "\u001b[1;31m---------------------------------------------------------------------------\u001b[0m",
      "\u001b[1;31mValueError\u001b[0m                                Traceback (most recent call last)",
      "\u001b[1;32m<ipython-input-16-ae8c971e0860>\u001b[0m in \u001b[0;36m<module>\u001b[1;34m\u001b[0m\n\u001b[1;32m----> 1\u001b[1;33m \u001b[0ma\u001b[0m \u001b[1;33m+\u001b[0m \u001b[0mb\u001b[0m\u001b[1;33m\u001b[0m\u001b[1;33m\u001b[0m\u001b[0m\n\u001b[0m\u001b[0;32m      2\u001b[0m \u001b[1;33m\u001b[0m\u001b[0m\n\u001b[0;32m      3\u001b[0m \u001b[1;31m# no se puede, eso es debido a que aunque tienen los mismos tamaños, no tienen la misma forma (shape)\u001b[0m\u001b[1;33m\u001b[0m\u001b[1;33m\u001b[0m\u001b[1;33m\u001b[0m\u001b[0m\n",
      "\u001b[1;31mValueError\u001b[0m: operands could not be broadcast together with shapes (2,3,5) (5,2,3) "
     ]
    }
   ],
   "source": [
    "a + b\n",
    "\n",
    "# no se puede, eso es debido a que aunque tienen los mismos tamaños, no tienen la misma forma (shape)"
   ]
  },
  {
   "cell_type": "markdown",
   "id": "7c024901",
   "metadata": {},
   "source": [
    "### 9. Transpose b so that it has the same structure of a (i.e. become a 2x3x5 array). Assign the transposed array to varialbe \"c\"."
   ]
  },
  {
   "cell_type": "code",
   "execution_count": 29,
   "id": "67c86084",
   "metadata": {},
   "outputs": [],
   "source": [
    "c = np.transpose(b, axes=[1,2,0])"
   ]
  },
  {
   "cell_type": "markdown",
   "id": "bf0f001f",
   "metadata": {},
   "source": [
    "### 10. Try to add a and c. Now it should work. Assign the sum to varialbe \"d\". But why does it work now?"
   ]
  },
  {
   "cell_type": "code",
   "execution_count": 30,
   "id": "9604e18b",
   "metadata": {},
   "outputs": [],
   "source": [
    "d = a + c"
   ]
  },
  {
   "cell_type": "markdown",
   "id": "b5d32815",
   "metadata": {},
   "source": [
    "### 11. Print a and d. Notice the difference and relation of the two array in terms of the values? Explain."
   ]
  },
  {
   "cell_type": "code",
   "execution_count": 36,
   "id": "d52500c1",
   "metadata": {},
   "outputs": [
    {
     "name": "stdout",
     "output_type": "stream",
     "text": [
      "------- matrix a -------\n",
      "\n",
      "[[[0.20846776 0.14930147 0.89914631 0.84718873 0.47057225]\n",
      "  [0.61114524 0.19331002 0.50457802 0.7712307  0.16101292]\n",
      "  [0.22864355 0.42499123 0.10476497 0.27649317 0.82033417]]\n",
      "\n",
      " [[0.06279012 0.93078133 0.80166884 0.72231455 0.09132007]\n",
      "  [0.49171731 0.10859506 0.05961885 0.79581947 0.93042786]\n",
      "  [0.19412918 0.96664288 0.55274558 0.37039637 0.69851704]]]\n",
      "\n",
      "------- matrix d -------\n",
      "\n",
      "[[[1.20846776 1.14930147 1.89914631 1.84718873 1.47057225]\n",
      "  [1.61114524 1.19331002 1.50457802 1.7712307  1.16101292]\n",
      "  [1.22864355 1.42499123 1.10476497 1.27649317 1.82033417]]\n",
      "\n",
      " [[1.06279012 1.93078133 1.80166884 1.72231455 1.09132007]\n",
      "  [1.49171731 1.10859506 1.05961885 1.79581947 1.93042786]\n",
      "  [1.19412918 1.96664288 1.55274558 1.37039637 1.69851704]]]\n"
     ]
    }
   ],
   "source": [
    "print('------- matrix a -------\\n')\n",
    "print(a, end='\\n\\n')\n",
    "print('------- matrix d -------\\n')\n",
    "print(d, end='\\n\\n')\n",
    "\n",
    "# Podemos notar que la matriz d es la mima que a, pero se le suma 1 en cada entrada."
   ]
  },
  {
   "cell_type": "markdown",
   "id": "05baa9d8",
   "metadata": {},
   "source": [
    "### 12. Multiply a and c. Assign the result to e."
   ]
  },
  {
   "cell_type": "code",
   "execution_count": 37,
   "id": "08ce98ed",
   "metadata": {},
   "outputs": [],
   "source": [
    "e = a * c"
   ]
  },
  {
   "cell_type": "markdown",
   "id": "65d6dac0",
   "metadata": {},
   "source": [
    "### 13. Does e equal to a? Why or why not?"
   ]
  },
  {
   "cell_type": "code",
   "execution_count": 41,
   "id": "fc2364ea",
   "metadata": {},
   "outputs": [
    {
     "name": "stdout",
     "output_type": "stream",
     "text": [
      "[[[0.20846776 0.14930147 0.89914631 0.84718873 0.47057225]\n",
      "  [0.61114524 0.19331002 0.50457802 0.7712307  0.16101292]\n",
      "  [0.22864355 0.42499123 0.10476497 0.27649317 0.82033417]]\n",
      "\n",
      " [[0.06279012 0.93078133 0.80166884 0.72231455 0.09132007]\n",
      "  [0.49171731 0.10859506 0.05961885 0.79581947 0.93042786]\n",
      "  [0.19412918 0.96664288 0.55274558 0.37039637 0.69851704]]]\n"
     ]
    }
   ],
   "source": [
    "print(e)\n",
    "\n",
    "# Siii, \"e\" es igual a \"a\", esto es debido a que tenemos una multipliccion elemento por elemento, \n",
    "# y todos los elementos de \"c\" son igual a \"1\""
   ]
  },
  {
   "cell_type": "markdown",
   "id": "ddb6d134",
   "metadata": {},
   "source": [
    "### 14. Identify the max, min, and mean values in d. Assign those values to variables \"d_max\", \"d_min\", and \"d_mean\""
   ]
  },
  {
   "cell_type": "code",
   "execution_count": 43,
   "id": "b932db72",
   "metadata": {},
   "outputs": [],
   "source": [
    "d_max = d.max()\n",
    "d_min = d.min()\n",
    "d_mean = d.mean()"
   ]
  },
  {
   "cell_type": "markdown",
   "id": "54ba750c",
   "metadata": {},
   "source": [
    "### 15. Now we want to label the values in d. First create an empty array \"f\" with the same shape (i.e. 2x3x5) as d using `np.empty`."
   ]
  },
  {
   "cell_type": "code",
   "execution_count": 44,
   "id": "d7567ec2",
   "metadata": {},
   "outputs": [],
   "source": [
    "f = np.empty_like(d)"
   ]
  },
  {
   "cell_type": "markdown",
   "id": "9d7cf483",
   "metadata": {},
   "source": [
    "### 16. Populate the values in f. \n",
    "For each value in d, if it's larger than d_min but smaller than d_mean, assign 25 to the corresponding value in f.\n",
    "If a value in d is larger than d_mean but smaller than d_max, assign 75 to the corresponding value in f.\n",
    "If a value equals to d_mean, assign 50 to the corresponding value in f.\n",
    "Assign 0 to the corresponding value(s) in f for d_min in d.\n",
    "Assign 100 to the corresponding value(s) in f for d_max in d.\n",
    "In the end, f should have only the following values: 0, 25, 50, 75, and 100.\n",
    "Note: you don't have to use Numpy in this question."
   ]
  },
  {
   "cell_type": "code",
   "execution_count": 55,
   "id": "a9079b44",
   "metadata": {},
   "outputs": [],
   "source": [
    "f[d == d_min] = 0\n",
    "f[(d_min < d) & (d < d_mean)] = 25\n",
    "f[d == d_mean] = 50\n",
    "f[(d_mean < d) & (d < d_max)] = 75\n",
    "f[d == d_max] = 100"
   ]
  },
  {
   "cell_type": "markdown",
   "id": "51c3fd93",
   "metadata": {},
   "source": [
    "### 17. Print d and f. Do you have your expected f?\n",
    "For instance, if your d is:\n",
    "\n",
    "array(\n",
    "       [[[1.85836099, 1.67064465, 1.62576044, 1.40243961, 1.88454931],\n",
    "        [1.75354326, 1.69403643, 1.36729252, 1.61415071, 1.12104981],\n",
    "        [1.72201435, 1.1862918 , 1.87078449, 1.7726778 , 1.88180042]],\n",
    "\n",
    "       [[1.44747908, 1.31673383, 1.02000951, 1.52218947, 1.97066381],\n",
    "        [1.79129243, 1.74983003, 1.96028037, 1.85166831, 1.65450881],\n",
    "        [1.18068344, 1.9587381 , 1.00656599, 1.93402165, 1.73514584]]])\n",
    "        \n",
    "Your f should be:\n",
    "array([[[ 75.,  75.,  75.,  25.,  75.],\n",
    "        [ 75.,  75.,  25.,  25.,  25.],\n",
    "        [ 75.,  25.,  75.,  75.,  75.]],\n",
    "\n",
    "       [[ 25.,  25.,  25.,  25., 100.],\n",
    "        [ 75.,  75.,  75.,  75.,  75.],\n",
    "        [ 25.,  75.,   0.,  75.,  75.]]])"
   ]
  },
  {
   "cell_type": "code",
   "execution_count": 56,
   "id": "e05a8cc4",
   "metadata": {},
   "outputs": [
    {
     "name": "stdout",
     "output_type": "stream",
     "text": [
      "[[[ 25.  25.  75.  75.  25.]\n",
      "  [ 75.  25.  75.  75.  25.]\n",
      "  [ 25.  25.  25.  25.  75.]]\n",
      "\n",
      " [[ 25.  75.  75.  75.  25.]\n",
      "  [ 75.  25.   0.  75.  75.]\n",
      "  [ 25. 100.  75.  25.  75.]]]\n"
     ]
    }
   ],
   "source": [
    "print(f)"
   ]
  },
  {
   "cell_type": "markdown",
   "id": "faae6146",
   "metadata": {},
   "source": [
    "### 18. Bonus question: instead of using numbers (i.e. 0, 25, 50, 75, and 100), how to use string values  (\"A\", \"B\", \"C\", \"D\", and \"E\") to label the array elements? \n",
    "You are expecting the result to be:\n",
    "array([[[ 'D',  'D',  'D',  'B',  'D'],\n",
    "        [ 'D',  'D',  'B',  'B',  'B'],\n",
    "        [ 'D',  'B',  'D',  'D',  'D']],\n",
    "\n",
    "       [[ 'B',  'B',  'B',  'B',  'E'],\n",
    "        [ 'D',  'D',  'D',  'D',  'D'],\n",
    "        [ 'B',  'D',   'A',  'D', 'D']]])\n",
    "Again, you don't need Numpy in this question."
   ]
  },
  {
   "cell_type": "code",
   "execution_count": 62,
   "id": "b33bf7b4",
   "metadata": {},
   "outputs": [
    {
     "name": "stdout",
     "output_type": "stream",
     "text": [
      "[[['B' 'B' 'D' 'D' 'B']\n",
      "  ['D' 'B' 'D' 'D' 'B']\n",
      "  ['B' 'B' 'B' 'B' 'D']]\n",
      "\n",
      " [['B' 'D' 'D' 'D' 'B']\n",
      "  ['D' 'B' 'A' 'D' 'D']\n",
      "  ['B' 'E' 'D' 'B' 'D']]]\n"
     ]
    }
   ],
   "source": [
    "g = np.full(d.shape, '')\n",
    "\n",
    "g[d == d_min] = 'A'\n",
    "g[(d_min < d) & (d < d_mean)] = 'B'\n",
    "g[d == d_mean] = 'C'\n",
    "g[(d_mean < d) & (d < d_max)] = 'D'\n",
    "g[d == d_max] = 'E'\n",
    "\n",
    "print(g)"
   ]
  },
  {
   "cell_type": "code",
   "execution_count": null,
   "id": "cacb43c0",
   "metadata": {},
   "outputs": [],
   "source": []
  }
 ],
 "metadata": {
  "kernelspec": {
   "display_name": "Python 3",
   "language": "python",
   "name": "python3"
  },
  "language_info": {
   "codemirror_mode": {
    "name": "ipython",
    "version": 3
   },
   "file_extension": ".py",
   "mimetype": "text/x-python",
   "name": "python",
   "nbconvert_exporter": "python",
   "pygments_lexer": "ipython3",
   "version": "3.8.8"
  }
 },
 "nbformat": 4,
 "nbformat_minor": 5
}
