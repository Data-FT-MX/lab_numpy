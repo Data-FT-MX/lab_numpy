{
 "cells": [
  {
   "attachments": {
    "image.png": {
     "image/png": "[encoded data removed]"
    }
   },
   "cell_type": "markdown",
   "id": "a1aa2192",
   "metadata": {},
   "source": [
    "![image.png](attachment:image.png)"
   ]
  },
  {
   "cell_type": "markdown",
   "id": "a9c73eaf",
   "metadata": {},
   "source": [
    "### Numpy es un módulo de python que nos permite realizar operaciones matemáticas y operaciones númericas con eficiencia. "
   ]
  },
  {
   "cell_type": "markdown",
   "id": "bd658e3f",
   "metadata": {},
   "source": [
    " > https://numpy.org/doc/stable/user/whatisnumpy.html"
   ]
  },
  {
   "cell_type": "code",
   "execution_count": 5,
   "id": "ed06512d",
   "metadata": {},
   "outputs": [],
   "source": [
    "import numpy as np\n",
    "# from numpy import random *"
   ]
  },
  {
   "cell_type": "code",
   "execution_count": 2,
   "id": "2ebbde0a",
   "metadata": {},
   "outputs": [
    {
     "data": {
      "text/plain": [
       "array([4, 1, 3])"
      ]
     },
     "execution_count": 2,
     "metadata": {},
     "output_type": "execute_result"
    }
   ],
   "source": [
    "# Arreglo\n",
    "\n",
    "np.array([4, 1, 3]) "
   ]
  },
  {
   "cell_type": "code",
   "execution_count": 3,
   "id": "3ecb05ed",
   "metadata": {},
   "outputs": [
    {
     "data": {
      "text/plain": [
       "numpy.ndarray"
      ]
     },
     "execution_count": 3,
     "metadata": {},
     "output_type": "execute_result"
    }
   ],
   "source": [
    "type(np.array(4))"
   ]
  },
  {
   "cell_type": "code",
   "execution_count": 7,
   "id": "cea235b4",
   "metadata": {},
   "outputs": [
    {
     "data": {
      "text/plain": [
       "array([0.34688   , 0.91589965, 0.61469009, 0.89355964, 0.4313466 ])"
      ]
     },
     "execution_count": 7,
     "metadata": {},
     "output_type": "execute_result"
    }
   ],
   "source": [
    "np.random.random(5)\n",
    "# random.random(5) *"
   ]
  },
  {
   "cell_type": "code",
   "execution_count": 8,
   "id": "93677800",
   "metadata": {
    "scrolled": true
   },
   "outputs": [
    {
     "name": "stderr",
     "output_type": "stream",
     "text": [
      "C:\\Users\\Turambar\\AppData\\Local\\Temp/ipykernel_22148/452014291.py:1: DeprecationWarning: This function is deprecated. Please call randint(4, 10 + 1) instead\n",
      "  np.random.random_integers(4, high=10, size=5)\n"
     ]
    },
    {
     "data": {
      "text/plain": [
       "array([6, 7, 6, 6, 4])"
      ]
     },
     "execution_count": 8,
     "metadata": {},
     "output_type": "execute_result"
    }
   ],
   "source": [
    "np.random.random_integers(4, high=10, size=5)"
   ]
  },
  {
   "cell_type": "code",
   "execution_count": 9,
   "id": "4fea9947",
   "metadata": {},
   "outputs": [
    {
     "data": {
      "text/plain": [
       "array([8, 5, 5, 6, 4])"
      ]
     },
     "execution_count": 9,
     "metadata": {},
     "output_type": "execute_result"
    }
   ],
   "source": [
    "np.random.randint(4, high=10, size=5)"
   ]
  },
  {
   "cell_type": "code",
   "execution_count": 11,
   "id": "280e4065",
   "metadata": {},
   "outputs": [
    {
     "data": {
      "text/plain": [
       "array([0.44261677, 0.6098832 , 0.90008191, 0.32355382, 0.90742818,\n",
       "       0.01088065, 0.45629827])"
      ]
     },
     "execution_count": 11,
     "metadata": {},
     "output_type": "execute_result"
    }
   ],
   "source": [
    "vector = np.random.random(7)\n",
    "vector"
   ]
  },
  {
   "cell_type": "code",
   "execution_count": 12,
   "id": "ea791042",
   "metadata": {
    "collapsed": true
   },
   "outputs": [
    {
     "data": {
      "text/plain": [
       "array([[0.86431325, 0.19769838, 0.51702013, 0.99603541],\n",
       "       [0.72603211, 0.77065093, 0.38502817, 0.60756921],\n",
       "       [0.83026884, 0.88751383, 0.55250805, 0.75108618],\n",
       "       [0.50536053, 0.95229806, 0.18521921, 0.56102339],\n",
       "       [0.56600048, 0.83385839, 0.91931994, 0.51756719],\n",
       "       [0.84971959, 0.26885014, 0.25861518, 0.40382929],\n",
       "       [0.72482496, 0.41295819, 0.41548648, 0.59334446],\n",
       "       [0.51700219, 0.55982241, 0.73238885, 0.32060038],\n",
       "       [0.15718478, 0.21164422, 0.9465493 , 0.1397796 ],\n",
       "       [0.35910259, 0.64673077, 0.52252937, 0.53295066]])"
      ]
     },
     "execution_count": 12,
     "metadata": {},
     "output_type": "execute_result"
    }
   ],
   "source": [
    "matriz = np.random.random((10, 4))\n",
    "matriz "
   ]
  },
  {
   "cell_type": "code",
   "execution_count": 13,
   "id": "74192374",
   "metadata": {},
   "outputs": [
    {
     "data": {
      "text/plain": [
       "(10, 4)"
      ]
     },
     "execution_count": 13,
     "metadata": {},
     "output_type": "execute_result"
    }
   ],
   "source": [
    "matriz.shape"
   ]
  },
  {
   "cell_type": "code",
   "execution_count": 14,
   "id": "bb60a759",
   "metadata": {},
   "outputs": [
    {
     "data": {
      "text/plain": [
       "40"
      ]
     },
     "execution_count": 14,
     "metadata": {},
     "output_type": "execute_result"
    }
   ],
   "source": [
    "matriz.size"
   ]
  },
  {
   "cell_type": "code",
   "execution_count": 16,
   "id": "1d4861f5",
   "metadata": {},
   "outputs": [
    {
     "data": {
      "text/plain": [
       "array([[0., 0., 0.],\n",
       "       [0., 0., 0.],\n",
       "       [0., 0., 0.],\n",
       "       [0., 0., 0.],\n",
       "       [0., 0., 0.]])"
      ]
     },
     "execution_count": 16,
     "metadata": {},
     "output_type": "execute_result"
    }
   ],
   "source": [
    "np.zeros((5, 3))"
   ]
  },
  {
   "cell_type": "code",
   "execution_count": 17,
   "id": "f7d4f3e7",
   "metadata": {},
   "outputs": [
    {
     "data": {
      "text/plain": [
       "array([[1., 1., 1.],\n",
       "       [1., 1., 1.],\n",
       "       [1., 1., 1.],\n",
       "       [1., 1., 1.],\n",
       "       [1., 1., 1.]])"
      ]
     },
     "execution_count": 17,
     "metadata": {},
     "output_type": "execute_result"
    }
   ],
   "source": [
    "np.ones((5, 3))"
   ]
  },
  {
   "cell_type": "code",
   "execution_count": 18,
   "id": "35a9c803",
   "metadata": {},
   "outputs": [
    {
     "data": {
      "text/plain": [
       "array([[[1., 1.],\n",
       "        [1., 1.],\n",
       "        [1., 1.],\n",
       "        [1., 1.],\n",
       "        [1., 1.],\n",
       "        [1., 1.]],\n",
       "\n",
       "       [[1., 1.],\n",
       "        [1., 1.],\n",
       "        [1., 1.],\n",
       "        [1., 1.],\n",
       "        [1., 1.],\n",
       "        [1., 1.]],\n",
       "\n",
       "       [[1., 1.],\n",
       "        [1., 1.],\n",
       "        [1., 1.],\n",
       "        [1., 1.],\n",
       "        [1., 1.],\n",
       "        [1., 1.]]])"
      ]
     },
     "execution_count": 18,
     "metadata": {},
     "output_type": "execute_result"
    }
   ],
   "source": [
    "np.ones((3, 6, 2))"
   ]
  },
  {
   "cell_type": "code",
   "execution_count": 21,
   "id": "453e30d7",
   "metadata": {},
   "outputs": [
    {
     "data": {
      "text/plain": [
       "array([ 1.08770332e-311,  0.00000000e+000, -4.94065646e-324])"
      ]
     },
     "execution_count": 21,
     "metadata": {},
     "output_type": "execute_result"
    }
   ],
   "source": [
    "np.empty(3)"
   ]
  },
  {
   "cell_type": "code",
   "execution_count": 22,
   "id": "843c4d45",
   "metadata": {},
   "outputs": [
    {
     "data": {
      "text/plain": [
       "array([[4, 4],\n",
       "       [4, 4]])"
      ]
     },
     "execution_count": 22,
     "metadata": {},
     "output_type": "execute_result"
    }
   ],
   "source": [
    "np.full((2, 2), 4)"
   ]
  },
  {
   "cell_type": "code",
   "execution_count": 24,
   "id": "e9159ade",
   "metadata": {},
   "outputs": [
    {
     "data": {
      "text/plain": [
       "array([3., 2., 1., 3.])"
      ]
     },
     "execution_count": 24,
     "metadata": {},
     "output_type": "execute_result"
    }
   ],
   "source": [
    "float_array = np.array([3, 2, 1, 3.0])\n",
    "float_array"
   ]
  },
  {
   "cell_type": "code",
   "execution_count": 26,
   "id": "aa418c36",
   "metadata": {},
   "outputs": [
    {
     "data": {
      "text/plain": [
       "(numpy.ndarray, dtype('float64'))"
      ]
     },
     "execution_count": 26,
     "metadata": {},
     "output_type": "execute_result"
    }
   ],
   "source": [
    "type(float_array), float_array.dtype"
   ]
  },
  {
   "cell_type": "code",
   "execution_count": 27,
   "id": "ca25cc8c",
   "metadata": {},
   "outputs": [
    {
     "data": {
      "text/plain": [
       "array(['No', 'Ponz dice Hola'], dtype='<U14')"
      ]
     },
     "execution_count": 27,
     "metadata": {},
     "output_type": "execute_result"
    }
   ],
   "source": [
    "string_array = np.array(['No', 'Ponz dice Hola'])\n",
    "string_array"
   ]
  },
  {
   "cell_type": "code",
   "execution_count": 28,
   "id": "6f8de9ec",
   "metadata": {},
   "outputs": [
    {
     "ename": "ValueError",
     "evalue": "could not convert string to float: 'Ponz dice hola'",
     "output_type": "error",
     "traceback": [
      "\u001b[1;31m---------------------------------------------------------------------------\u001b[0m",
      "\u001b[1;31mValueError\u001b[0m                                Traceback (most recent call last)",
      "\u001b[1;32m~\\AppData\\Local\\Temp/ipykernel_22148/637069965.py\u001b[0m in \u001b[0;36m<module>\u001b[1;34m\u001b[0m\n\u001b[1;32m----> 1\u001b[1;33m \u001b[0mnp\u001b[0m\u001b[1;33m.\u001b[0m\u001b[0marray\u001b[0m\u001b[1;33m(\u001b[0m\u001b[1;33m[\u001b[0m\u001b[1;36m1\u001b[0m\u001b[1;33m,\u001b[0m \u001b[1;36m2\u001b[0m\u001b[1;33m,\u001b[0m \u001b[1;36m3\u001b[0m\u001b[1;33m,\u001b[0m \u001b[1;34m'Ponz dice hola'\u001b[0m\u001b[1;33m]\u001b[0m\u001b[1;33m,\u001b[0m \u001b[0mdtype\u001b[0m\u001b[1;33m=\u001b[0m\u001b[0mnp\u001b[0m\u001b[1;33m.\u001b[0m\u001b[0mfloat32\u001b[0m\u001b[1;33m)\u001b[0m\u001b[1;33m\u001b[0m\u001b[1;33m\u001b[0m\u001b[0m\n\u001b[0m",
      "\u001b[1;31mValueError\u001b[0m: could not convert string to float: 'Ponz dice hola'"
     ]
    }
   ],
   "source": [
    "np.array([1, 2, 3, 'Ponz dice hola'], dtype=np.float32)"
   ]
  },
  {
   "cell_type": "code",
   "execution_count": 29,
   "id": "063049cc",
   "metadata": {},
   "outputs": [
    {
     "data": {
      "text/plain": [
       "array(['1', '2', '3', 'Ponz dice hola'], dtype='<U14')"
      ]
     },
     "execution_count": 29,
     "metadata": {},
     "output_type": "execute_result"
    }
   ],
   "source": [
    "np.array([1, 2, 3, 'Ponz dice hola']) # Object "
   ]
  },
  {
   "cell_type": "code",
   "execution_count": 34,
   "id": "ee204f6a",
   "metadata": {},
   "outputs": [
    {
     "data": {
      "text/plain": [
       "array([1., 2., 3., 4.], dtype=float16)"
      ]
     },
     "execution_count": 34,
     "metadata": {},
     "output_type": "execute_result"
    }
   ],
   "source": [
    "np.array([1, 2, 3, 4], dtype=np.float16)"
   ]
  },
  {
   "cell_type": "code",
   "execution_count": 35,
   "id": "d19d5474",
   "metadata": {},
   "outputs": [
    {
     "data": {
      "text/plain": [
       "array([10, 14, 64])"
      ]
     },
     "execution_count": 35,
     "metadata": {},
     "output_type": "execute_result"
    }
   ],
   "source": [
    "lst = [10, 14, 64]\n",
    "\n",
    "array = np.array(lst)\n",
    "\n",
    "array"
   ]
  },
  {
   "cell_type": "code",
   "execution_count": 36,
   "id": "eb8b3b23",
   "metadata": {},
   "outputs": [
    {
     "name": "stdout",
     "output_type": "stream",
     "text": [
      "10\n",
      "14\n",
      "64\n"
     ]
    }
   ],
   "source": [
    "for element in array:\n",
    "    print(element)"
   ]
  },
  {
   "cell_type": "code",
   "execution_count": 38,
   "id": "8afb0ac0",
   "metadata": {},
   "outputs": [
    {
     "data": {
      "text/plain": [
       "array([[1., 0., 0., 0., 0.],\n",
       "       [0., 1., 0., 0., 0.],\n",
       "       [0., 0., 1., 0., 0.],\n",
       "       [0., 0., 0., 1., 0.],\n",
       "       [0., 0., 0., 0., 1.]])"
      ]
     },
     "execution_count": 38,
     "metadata": {},
     "output_type": "execute_result"
    }
   ],
   "source": [
    "np.identity(5)"
   ]
  },
  {
   "cell_type": "code",
   "execution_count": 44,
   "id": "59395091",
   "metadata": {},
   "outputs": [
    {
     "data": {
      "text/plain": [
       "array([[0., 0., 0., 0., 0.],\n",
       "       [1., 0., 0., 0., 0.],\n",
       "       [0., 1., 0., 0., 0.],\n",
       "       [0., 0., 1., 0., 0.],\n",
       "       [0., 0., 0., 1., 0.]])"
      ]
     },
     "execution_count": 44,
     "metadata": {},
     "output_type": "execute_result"
    }
   ],
   "source": [
    "np.eye(5, 5, -1)"
   ]
  },
  {
   "cell_type": "code",
   "execution_count": 45,
   "id": "d445ae9a",
   "metadata": {},
   "outputs": [
    {
     "data": {
      "text/plain": [
       "array([[ 5, 23,  3,  8],\n",
       "       [ 9, 43, 12,  0]])"
      ]
     },
     "execution_count": 45,
     "metadata": {},
     "output_type": "execute_result"
    }
   ],
   "source": [
    "lst = [[5, 23, 3, 8], [9, 43, 12, 0]]\n",
    "\n",
    "array = np.array(lst)\n",
    "array"
   ]
  },
  {
   "cell_type": "code",
   "execution_count": 46,
   "id": "cb8afad2",
   "metadata": {},
   "outputs": [
    {
     "data": {
      "text/plain": [
       "array([ 5, 23,  3,  8,  9, 43, 12,  0,  1,  3])"
      ]
     },
     "execution_count": 46,
     "metadata": {},
     "output_type": "execute_result"
    }
   ],
   "source": [
    "array_b = np.append(array, [1, 3])\n",
    "array_b"
   ]
  },
  {
   "cell_type": "code",
   "execution_count": 47,
   "id": "f546862c",
   "metadata": {},
   "outputs": [
    {
     "data": {
      "text/plain": [
       "array([[ 5, 23,  3,  8,  1,  3],\n",
       "       [ 9, 43, 12,  0,  1,  3]])"
      ]
     },
     "execution_count": 47,
     "metadata": {},
     "output_type": "execute_result"
    }
   ],
   "source": [
    "array_b = np.append(array, [[1, 3], [1, 3]], axis=1)\n",
    "array_b"
   ]
  },
  {
   "cell_type": "code",
   "execution_count": 51,
   "id": "02b5bec8",
   "metadata": {},
   "outputs": [
    {
     "data": {
      "text/plain": [
       "array([[ 5, 23,  3,  8],\n",
       "       [ 9, 43, 12,  0],\n",
       "       [ 1,  3,  1,  3]])"
      ]
     },
     "execution_count": 51,
     "metadata": {},
     "output_type": "execute_result"
    }
   ],
   "source": [
    "array_b = np.append(array, [[1, 3, 1, 3]], axis=0)\n",
    "array_b"
   ]
  },
  {
   "cell_type": "code",
   "execution_count": 52,
   "id": "196de769",
   "metadata": {},
   "outputs": [],
   "source": [
    "lista_2 = [[5, 2, 12, 5], [1, 59, 34, 23]]"
   ]
  },
  {
   "cell_type": "code",
   "execution_count": 53,
   "id": "6824226a",
   "metadata": {},
   "outputs": [
    {
     "data": {
      "text/plain": [
       "1"
      ]
     },
     "execution_count": 53,
     "metadata": {},
     "output_type": "execute_result"
    }
   ],
   "source": [
    "lista_2[1][0]"
   ]
  },
  {
   "cell_type": "code",
   "execution_count": 54,
   "id": "a9f610c5",
   "metadata": {},
   "outputs": [
    {
     "data": {
      "text/plain": [
       "array([[ 5,  2, 12,  5],\n",
       "       [ 1, 59, 34, 23]])"
      ]
     },
     "execution_count": 54,
     "metadata": {},
     "output_type": "execute_result"
    }
   ],
   "source": [
    "array_2 = np.array(lista_2)\n",
    "array_2"
   ]
  },
  {
   "cell_type": "code",
   "execution_count": 55,
   "id": "864212c9",
   "metadata": {},
   "outputs": [
    {
     "data": {
      "text/plain": [
       "5"
      ]
     },
     "execution_count": 55,
     "metadata": {},
     "output_type": "execute_result"
    }
   ],
   "source": [
    "array_2[0][0]"
   ]
  },
  {
   "cell_type": "code",
   "execution_count": 56,
   "id": "7eec3f44",
   "metadata": {},
   "outputs": [
    {
     "data": {
      "text/plain": [
       "23"
      ]
     },
     "execution_count": 56,
     "metadata": {},
     "output_type": "execute_result"
    }
   ],
   "source": [
    "array_2[-1][-1]"
   ]
  },
  {
   "cell_type": "code",
   "execution_count": 57,
   "id": "cd753a54",
   "metadata": {
    "scrolled": false
   },
   "outputs": [
    {
     "data": {
      "text/plain": [
       "array([[[0.25329003, 0.01230209, 0.97801296, 0.85868889, 0.54964975],\n",
       "        [0.19443288, 0.29927852, 0.22365096, 0.41447389, 0.44442151],\n",
       "        [0.51650323, 0.17141989, 0.58253529, 0.90840433, 0.97150149],\n",
       "        [0.76398948, 0.3483994 , 0.89558657, 0.13892023, 0.30780097],\n",
       "        [0.34734622, 0.31168675, 0.71334198, 0.16122598, 0.95478929],\n",
       "        [0.0307144 , 0.14771316, 0.472482  , 0.98891125, 0.50703928],\n",
       "        [0.95432801, 0.24884523, 0.34474448, 0.50351343, 0.7286905 ]],\n",
       "\n",
       "       [[0.99406678, 0.72846901, 0.96242059, 0.25715171, 0.00204082],\n",
       "        [0.0144381 , 0.41319902, 0.08719775, 0.18282458, 0.16727898],\n",
       "        [0.7797085 , 0.66207561, 0.21468884, 0.06870183, 0.01836117],\n",
       "        [0.28899494, 0.36385261, 0.16510615, 0.51193207, 0.86422885],\n",
       "        [0.59859821, 0.11623418, 0.9448371 , 0.64256706, 0.63474577],\n",
       "        [0.18558616, 0.8110073 , 0.95993515, 0.31099262, 0.87223562],\n",
       "        [0.27489108, 0.43483266, 0.49139444, 0.87425344, 0.52282586]],\n",
       "\n",
       "       [[0.32053103, 0.34787631, 0.00491736, 0.36903767, 0.81477216],\n",
       "        [0.12331551, 0.38124054, 0.06383382, 0.95092955, 0.12194875],\n",
       "        [0.05210134, 0.12018687, 0.43110012, 0.41012825, 0.0486402 ],\n",
       "        [0.99369114, 0.84691679, 0.56132362, 0.46834798, 0.62688069],\n",
       "        [0.61036963, 0.78271931, 0.63899559, 0.05344221, 0.53350854],\n",
       "        [0.68293475, 0.16076722, 0.22436723, 0.62287183, 0.93172656],\n",
       "        [0.38316549, 0.35643168, 0.04948603, 0.9377683 , 0.76424772]]])"
      ]
     },
     "execution_count": 57,
     "metadata": {},
     "output_type": "execute_result"
    }
   ],
   "source": [
    "array_3d = np.random.random((3, 7, 5))\n",
    "array_3d"
   ]
  },
  {
   "cell_type": "code",
   "execution_count": 59,
   "id": "d7bcd058",
   "metadata": {},
   "outputs": [
    {
     "data": {
      "text/plain": [
       "0.9940667776663648"
      ]
     },
     "execution_count": 59,
     "metadata": {},
     "output_type": "execute_result"
    }
   ],
   "source": [
    "array_3d[1][0][0]"
   ]
  },
  {
   "cell_type": "code",
   "execution_count": 60,
   "id": "3088d10d",
   "metadata": {},
   "outputs": [
    {
     "data": {
      "text/plain": [
       "0.7642477173539368"
      ]
     },
     "execution_count": 60,
     "metadata": {},
     "output_type": "execute_result"
    }
   ],
   "source": [
    "array_3d[-1][-1][-1]"
   ]
  },
  {
   "cell_type": "code",
   "execution_count": 105,
   "id": "91c9ad7a",
   "metadata": {},
   "outputs": [
    {
     "data": {
      "text/plain": [
       "array([[0.32053103, 0.34787631, 0.00491736, 0.36903767, 0.81477216],\n",
       "       [0.12331551, 0.38124054, 0.06383382, 0.95092955, 0.12194875],\n",
       "       [0.05210134, 0.12018687, 0.43110012, 0.41012825, 0.0486402 ],\n",
       "       [0.99369114, 0.84691679, 0.56132362, 0.46834798, 0.62688069],\n",
       "       [0.61036963, 0.78271931, 0.63899559, 0.05344221, 0.53350854],\n",
       "       [0.68293475, 0.16076722, 0.22436723, 0.62287183, 0.93172656],\n",
       "       [0.38316549, 0.35643168, 0.04948603, 0.9377683 , 0.76424772]])"
      ]
     },
     "execution_count": 105,
     "metadata": {},
     "output_type": "execute_result"
    }
   ],
   "source": [
    "array_3d[1:5][0:2][1]"
   ]
  },
  {
   "cell_type": "code",
   "execution_count": 106,
   "id": "2ca211dc",
   "metadata": {},
   "outputs": [
    {
     "data": {
      "text/plain": [
       "array([[0.72846901, 0.41319902],\n",
       "       [0.34787631, 0.38124054]])"
      ]
     },
     "execution_count": 106,
     "metadata": {},
     "output_type": "execute_result"
    }
   ],
   "source": [
    "array_3d[1:5, 0:2, 1]"
   ]
  },
  {
   "cell_type": "code",
   "execution_count": 104,
   "id": "c8a29b02",
   "metadata": {},
   "outputs": [
    {
     "data": {
      "text/plain": [
       "0.7642477173539368"
      ]
     },
     "execution_count": 104,
     "metadata": {},
     "output_type": "execute_result"
    }
   ],
   "source": [
    "array_3d[-1, -1, -1]"
   ]
  },
  {
   "cell_type": "code",
   "execution_count": 61,
   "id": "176d4ae8",
   "metadata": {},
   "outputs": [
    {
     "data": {
      "text/plain": [
       "array([[13,  6,  8,  5,  6, 13],\n",
       "       [12,  6,  9,  7, 14, 13],\n",
       "       [ 6, 14,  7, 12,  6,  9],\n",
       "       [ 9, 14,  9, 11,  8, 13],\n",
       "       [ 8, 10,  7,  9,  6, 13],\n",
       "       [14, 14, 13,  7,  9, 13]])"
      ]
     },
     "execution_count": 61,
     "metadata": {},
     "output_type": "execute_result"
    }
   ],
   "source": [
    "array_resh = np.random.randint(5, high=15, size=(6, 6))\n",
    "array_resh"
   ]
  },
  {
   "cell_type": "code",
   "execution_count": 67,
   "id": "b47b33f2",
   "metadata": {},
   "outputs": [
    {
     "data": {
      "text/plain": [
       "array([[13,  6,  8,  5,  6, 13, 12,  6,  9,  7, 14, 13],\n",
       "       [ 6, 14,  7, 12,  6,  9,  9, 14,  9, 11,  8, 13],\n",
       "       [ 8, 10,  7,  9,  6, 13, 14, 14, 13,  7,  9, 13]])"
      ]
     },
     "execution_count": 67,
     "metadata": {},
     "output_type": "execute_result"
    }
   ],
   "source": [
    "array_resh.reshape(3, -1)"
   ]
  },
  {
   "cell_type": "code",
   "execution_count": 74,
   "id": "426a4532",
   "metadata": {},
   "outputs": [
    {
     "data": {
      "text/plain": [
       "array([[13,  6,  8,  5,  6, 13],\n",
       "       [12,  6,  9,  7, 14, 13],\n",
       "       [ 6, 14,  7, 12,  6,  9],\n",
       "       [ 9, 14,  9, 11,  8, 13],\n",
       "       [ 8, 10,  7,  9,  6, 13],\n",
       "       [14, 14, 13,  7,  9, 13]])"
      ]
     },
     "execution_count": 74,
     "metadata": {},
     "output_type": "execute_result"
    }
   ],
   "source": [
    "array_resh.reshape(6, 6)"
   ]
  },
  {
   "cell_type": "code",
   "execution_count": 72,
   "id": "3f1f1ea5",
   "metadata": {},
   "outputs": [],
   "source": [
    "flat = np.array([1, 3, 4, 5, 7, 788, 9, 2, 34, 45, 2, 12])"
   ]
  },
  {
   "cell_type": "code",
   "execution_count": 73,
   "id": "b8d1967e",
   "metadata": {},
   "outputs": [
    {
     "data": {
      "text/plain": [
       "array([[  1,   3,   4,   5],\n",
       "       [  7, 788,   9,   2],\n",
       "       [ 34,  45,   2,  12]])"
      ]
     },
     "execution_count": 73,
     "metadata": {},
     "output_type": "execute_result"
    }
   ],
   "source": [
    "# Reshape tiene que ser sobre el número exacto de elementos \n",
    "matriz = flat.reshape(3, 4)\n",
    "matriz"
   ]
  },
  {
   "cell_type": "code",
   "execution_count": 75,
   "id": "019864ec",
   "metadata": {},
   "outputs": [
    {
     "data": {
      "text/plain": [
       "array([  1,   3,   4,   5,   7, 788,   9,   2,  34,  45,   2,  12])"
      ]
     },
     "execution_count": 75,
     "metadata": {},
     "output_type": "execute_result"
    }
   ],
   "source": [
    "matriz.flatten()"
   ]
  },
  {
   "cell_type": "markdown",
   "id": "ca61c58a",
   "metadata": {},
   "source": [
    "### Operaciones matemáticas "
   ]
  },
  {
   "cell_type": "code",
   "execution_count": 79,
   "id": "b9e7cbd3",
   "metadata": {},
   "outputs": [
    {
     "data": {
      "text/plain": [
       "array([[ 7,  4,  2,  7],\n",
       "       [12, 15, 17, 19]])"
      ]
     },
     "execution_count": 79,
     "metadata": {},
     "output_type": "execute_result"
    }
   ],
   "source": [
    "matriz = np.random.randint([[1, 3, 1, 4], [5, 7, 1, 8]],\n",
    "                           [[10], [20]])\n",
    "matriz"
   ]
  },
  {
   "cell_type": "code",
   "execution_count": 80,
   "id": "32539ec7",
   "metadata": {},
   "outputs": [
    {
     "data": {
      "text/plain": [
       "83"
      ]
     },
     "execution_count": 80,
     "metadata": {},
     "output_type": "execute_result"
    }
   ],
   "source": [
    "matriz.sum()"
   ]
  },
  {
   "cell_type": "code",
   "execution_count": 81,
   "id": "02e249b2",
   "metadata": {},
   "outputs": [
    {
     "data": {
      "text/plain": [
       "83"
      ]
     },
     "execution_count": 81,
     "metadata": {},
     "output_type": "execute_result"
    }
   ],
   "source": [
    "np.sum(matriz)"
   ]
  },
  {
   "cell_type": "code",
   "execution_count": 82,
   "id": "93d64df1",
   "metadata": {},
   "outputs": [
    {
     "data": {
      "text/plain": [
       "2"
      ]
     },
     "execution_count": 82,
     "metadata": {},
     "output_type": "execute_result"
    }
   ],
   "source": [
    "matriz.min()"
   ]
  },
  {
   "cell_type": "code",
   "execution_count": 83,
   "id": "97299180",
   "metadata": {},
   "outputs": [
    {
     "data": {
      "text/plain": [
       "19"
      ]
     },
     "execution_count": 83,
     "metadata": {},
     "output_type": "execute_result"
    }
   ],
   "source": [
    "matriz.max()"
   ]
  },
  {
   "cell_type": "code",
   "execution_count": 89,
   "id": "2a49363b",
   "metadata": {},
   "outputs": [
    {
     "name": "stdout",
     "output_type": "stream",
     "text": [
      "[10 12 14 16 18]\n",
      "[5 6 7 8 9]\n"
     ]
    }
   ],
   "source": [
    "rango_1 = np.arange(10, 20, 2)\n",
    "rango_2 = np.arange(5, 10, 1)\n",
    "\n",
    "print(rango_1)\n",
    "print(rango_2)"
   ]
  },
  {
   "cell_type": "code",
   "execution_count": 90,
   "id": "2fd22df4",
   "metadata": {},
   "outputs": [
    {
     "data": {
      "text/plain": [
       "array([15, 18, 21, 24, 27])"
      ]
     },
     "execution_count": 90,
     "metadata": {},
     "output_type": "execute_result"
    }
   ],
   "source": [
    "rango_1 + rango_2"
   ]
  },
  {
   "cell_type": "code",
   "execution_count": 91,
   "id": "1b65511e",
   "metadata": {},
   "outputs": [
    {
     "data": {
      "text/plain": [
       "array([13.1415, 15.1415, 17.1415, 19.1415, 21.1415])"
      ]
     },
     "execution_count": 91,
     "metadata": {},
     "output_type": "execute_result"
    }
   ],
   "source": [
    "rango_1 + 3.1415"
   ]
  },
  {
   "cell_type": "code",
   "execution_count": 92,
   "id": "9c810425",
   "metadata": {},
   "outputs": [],
   "source": [
    "# Que pasa si son de distinto tamaño mis arreglos\n",
    "# rango_1 = np.arange(10, 20, 2)\n",
    "# rango_2 = np.arange(5, 8, 1)\n",
    "\n",
    "# print(rango_1)\n",
    "# print(rango_2)"
   ]
  },
  {
   "cell_type": "code",
   "execution_count": 93,
   "id": "21444d0c",
   "metadata": {},
   "outputs": [],
   "source": [
    "# rango_1 + rango_2"
   ]
  },
  {
   "cell_type": "code",
   "execution_count": 94,
   "id": "125b3f48",
   "metadata": {},
   "outputs": [
    {
     "data": {
      "text/plain": [
       "array([ 50,  72,  98, 128, 162])"
      ]
     },
     "execution_count": 94,
     "metadata": {},
     "output_type": "execute_result"
    }
   ],
   "source": [
    "rango_1 * rango_2 "
   ]
  },
  {
   "cell_type": "code",
   "execution_count": 95,
   "id": "f91f7e95",
   "metadata": {},
   "outputs": [
    {
     "data": {
      "text/plain": [
       "array([2., 2., 2., 2., 2.])"
      ]
     },
     "execution_count": 95,
     "metadata": {},
     "output_type": "execute_result"
    }
   ],
   "source": [
    "rango_1 / rango_2"
   ]
  },
  {
   "cell_type": "code",
   "execution_count": 96,
   "id": "393a4aa6",
   "metadata": {},
   "outputs": [
    {
     "data": {
      "text/plain": [
       "array([5, 6, 7, 8, 9])"
      ]
     },
     "execution_count": 96,
     "metadata": {},
     "output_type": "execute_result"
    }
   ],
   "source": [
    "rango_1 - rango_2"
   ]
  },
  {
   "cell_type": "code",
   "execution_count": 97,
   "id": "b1e99a13",
   "metadata": {},
   "outputs": [
    {
     "data": {
      "text/plain": [
       "14.0"
      ]
     },
     "execution_count": 97,
     "metadata": {},
     "output_type": "execute_result"
    }
   ],
   "source": [
    "np.mean(rango_1)"
   ]
  },
  {
   "cell_type": "code",
   "execution_count": 98,
   "id": "2880feba",
   "metadata": {},
   "outputs": [
    {
     "data": {
      "text/plain": [
       "14.0"
      ]
     },
     "execution_count": 98,
     "metadata": {},
     "output_type": "execute_result"
    }
   ],
   "source": [
    "np.median(rango_1)"
   ]
  },
  {
   "cell_type": "code",
   "execution_count": 99,
   "id": "7df59217",
   "metadata": {},
   "outputs": [
    {
     "data": {
      "text/plain": [
       "2.8284271247461903"
      ]
     },
     "execution_count": 99,
     "metadata": {},
     "output_type": "execute_result"
    }
   ],
   "source": [
    "np.std(rango_1)"
   ]
  },
  {
   "cell_type": "code",
   "execution_count": 100,
   "id": "cef6e09b",
   "metadata": {},
   "outputs": [
    {
     "data": {
      "text/plain": [
       "array([3.16227766, 3.46410162, 3.74165739, 4.        , 4.24264069])"
      ]
     },
     "execution_count": 100,
     "metadata": {},
     "output_type": "execute_result"
    }
   ],
   "source": [
    "np.sqrt(rango_1)"
   ]
  },
  {
   "cell_type": "code",
   "execution_count": 101,
   "id": "76ab18ba",
   "metadata": {},
   "outputs": [
    {
     "data": {
      "text/plain": [
       "array([[ 5,  5,  7,  5],\n",
       "       [11, 10, 11, 17]])"
      ]
     },
     "execution_count": 101,
     "metadata": {},
     "output_type": "execute_result"
    }
   ],
   "source": [
    "matriz = np.random.randint([[1, 3, 1, 4], [5, 7, 1, 8]],\n",
    "                           [[10], [20]])\n",
    "matriz"
   ]
  },
  {
   "cell_type": "code",
   "execution_count": 102,
   "id": "aa8c93d3",
   "metadata": {},
   "outputs": [
    {
     "data": {
      "text/plain": [
       "array([[ 5, 11],\n",
       "       [ 5, 10],\n",
       "       [ 7, 11],\n",
       "       [ 5, 17]])"
      ]
     },
     "execution_count": 102,
     "metadata": {},
     "output_type": "execute_result"
    }
   ],
   "source": [
    "matriz.transpose()"
   ]
  },
  {
   "cell_type": "code",
   "execution_count": 103,
   "id": "0f7d8743",
   "metadata": {},
   "outputs": [
    {
     "data": {
      "text/plain": [
       "array([['Menor a diez', 'Menor a diez', 'Menor a diez', 'Menor a diez'],\n",
       "       ['Mayor a diez', 'Menor a diez', 'Mayor a diez', 'Mayor a diez']],\n",
       "      dtype='<U12')"
      ]
     },
     "execution_count": 103,
     "metadata": {},
     "output_type": "execute_result"
    }
   ],
   "source": [
    "np.where(matriz > 10, 'Mayor a diez', 'Menor a diez')"
   ]
  },
  {
   "cell_type": "code",
   "execution_count": null,
   "id": "275ac2b8",
   "metadata": {},
   "outputs": [],
   "source": []
  }
 ],
 "metadata": {
  "kernelspec": {
   "display_name": "Python 3 (ipykernel)",
   "language": "python",
   "name": "python3"
  },
  "language_info": {
   "codemirror_mode": {
    "name": "ipython",
    "version": 3
   },
   "file_extension": ".py",
   "mimetype": "text/x-python",
   "name": "python",
   "nbconvert_exporter": "python",
   "pygments_lexer": "ipython3",
   "version": "3.8.10"
  }
 },
 "nbformat": 4,
 "nbformat_minor": 5
}
